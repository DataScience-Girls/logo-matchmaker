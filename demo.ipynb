{
 "cells": [
  {
   "cell_type": "code",
   "execution_count": null,
   "id": "8ee8642a-f799-4825-9560-98f932a0ca0f",
   "metadata": {
    "tags": []
   },
   "outputs": [],
   "source": [
    "import os\n",
    "import pickle\n",
    "import random\n",
    "import numpy as np\n",
    "from sklearn.metrics.pairwise import cosine_similarity\n",
    "from tensorflow.keras.applications.efficientnet_v2 import (\n",
    "    EfficientNetV2L,\n",
    "    preprocess_input,\n",
    ")\n",
    "from tensorflow.keras.preprocessing import image as tf_image\n",
    "from PIL import Image\n",
    "from IPython.display import display"
   ]
  },
  {
   "cell_type": "code",
   "execution_count": null,
   "id": "6cfe03e8-f9fd-4682-9f65-06c9fd28b2cc",
   "metadata": {
    "tags": []
   },
   "outputs": [],
   "source": [
    "def load_and_preprocess_image(img_path, target_size=(224, 224)):\n",
    "    img = tf_image.load_img(img_path)\n",
    "    img_array = tf_image.img_to_array(img)\n",
    "    img_array = np.expand_dims(img_array, axis=0)\n",
    "    img_array = preprocess_input(img_array)\n",
    "    return img_array\n",
    "\n",
    "\n",
    "def extract_features(img_path, model):\n",
    "    img_array = load_and_preprocess_image(img_path)\n",
    "    features = model.predict(img_array)\n",
    "    return features\n",
    "\n",
    "\n",
    "def find_similar_logos(logo_path, database, model, threshold=0.8, size=5):\n",
    "    logo_features = extract_features(logo_path, model)\n",
    "    similar_logos = []\n",
    "\n",
    "    for img_path, features in database.items():\n",
    "        similarity = cosine_similarity(logo_features, features)\n",
    "        if similarity >= threshold:\n",
    "            similar_logos.append((img_path, similarity))\n",
    "\n",
    "    return sorted(similar_logos, key=lambda x: x[1], reverse=True)[:size]\n"
   ]
  },
  {
   "cell_type": "code",
   "execution_count": null,
   "id": "1444b760-5cfe-42e2-a97d-37e9d66cb0ba",
   "metadata": {
    "tags": []
   },
   "outputs": [],
   "source": [
    "efficientnet_model = EfficientNetV2L(\n",
    "    weights=\"imagenet\", include_top=False, pooling=\"avg\"\n",
    ")\n",
    "\n",
    "logodatabase_file_path = \"data/logo_database.pkl\"\n",
    "data_folder = \"images\"\n",
    "\n",
    "# Check if the file exists\n",
    "if os.path.exists(logodatabase_file_path):\n",
    "    print(f\"The file '{logodatabase_file_path}' exists.\")\n",
    "else:\n",
    "    print(f\"The file '{logodatabase_file_path}' does not exist.\")\n",
    "    logo_database = {}\n",
    "    for file_name in os.listdir(data_folder):\n",
    "        file_path = os.path.join(data_folder, file_name)\n",
    "\n",
    "        # Check if the file is an image (assuming only JPEG and PNG formats)\n",
    "        if file_path.lower().endswith((\".jpg\", \".jpeg\", \".png\")):\n",
    "            logo_database[file_path] = extract_features(file_path, efficientnet_model)\n",
    "\n",
    "    with open(logodatabase_file_path, \"wb\") as file:\n",
    "        pickle.dump(logo_database, file)\n",
    "    print(\"Logo database saved to logo_database.pkl\")\n",
    "\n",
    "\n",
    "loaded_logo_database = {}\n",
    "with open(logodatabase_file_path, \"rb\") as file:\n",
    "    loaded_logo_database = pickle.load(file)\n",
    "\n",
    "print(\"Logo database loaded from logo_database.pkl\")"
   ]
  },
  {
   "cell_type": "code",
   "execution_count": null,
   "id": "e3fb3450-ac90-4f36-90dc-289d60aec01a",
   "metadata": {
    "tags": []
   },
   "outputs": [],
   "source": [
    "all_files = os.listdir(data_folder)\n",
    "\n",
    "# Filter out only image files (assuming only JPEG and PNG formats)\n",
    "image_files = [\n",
    "    file for file in all_files if file.lower().endswith((\".jpg\", \".jpeg\", \".png\"))\n",
    "]"
   ]
  },
  {
   "cell_type": "code",
   "execution_count": null,
   "id": "f589d9cd-0812-4025-927f-7472dd7a3cb3",
   "metadata": {
    "tags": []
   },
   "outputs": [],
   "source": [
    "# Select a random image file\n",
    "target_logo_file = random.choice(image_files)\n",
    "target_logo_path = os.path.join(data_folder, target_logo_file)\n",
    "# target_logo_path = \"target1.jpg\"\n",
    "# Find similar logos to the target logo\n",
    "similar_logos = find_similar_logos(\n",
    "    target_logo_path, loaded_logo_database, efficientnet_model, size=10\n",
    ")\n",
    "\n",
    "target_image = Image.open(target_logo_path)\n",
    "display(target_image)\n",
    "# Print the similar logos and their similarity scores\n",
    "print(f\"Finding similar logo to {target_logo_path}\")\n",
    "for logo_path, similarity in similar_logos:\n",
    "    print(f\"Logo: {logo_path}, Similarity: {similarity[0][0]}\")\n",
    "    image = Image.open(logo_path)\n",
    "    display(image)\n",
    "    \n"
   ]
  },
  {
   "cell_type": "code",
   "execution_count": null,
   "id": "d71e5d49-73a9-4349-bd34-af9c38dff00a",
   "metadata": {},
   "outputs": [],
   "source": []
  }
 ],
 "metadata": {
  "kernelspec": {
   "display_name": "Python 3 (ipykernel)",
   "language": "python",
   "name": "python3"
  },
  "language_info": {
   "codemirror_mode": {
    "name": "ipython",
    "version": 3
   },
   "file_extension": ".py",
   "mimetype": "text/x-python",
   "name": "python",
   "nbconvert_exporter": "python",
   "pygments_lexer": "ipython3",
   "version": "3.9.16"
  }
 },
 "nbformat": 4,
 "nbformat_minor": 5
}
